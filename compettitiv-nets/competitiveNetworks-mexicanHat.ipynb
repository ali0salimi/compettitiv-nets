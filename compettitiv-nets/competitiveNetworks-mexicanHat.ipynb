{
 "cells": [
  {
   "cell_type": "code",
   "execution_count": 1,
   "id": "3f8a5206",
   "metadata": {},
   "outputs": [],
   "source": [
    "import numpy as np"
   ]
  },
  {
   "cell_type": "code",
   "execution_count": 80,
   "id": "304b2f6c",
   "metadata": {},
   "outputs": [],
   "source": [
    "def activation(x) :\n",
    "    if(x<0) : \n",
    "        return 0\n",
    "    elif(x>2) : \n",
    "        return 2\n",
    "    else : \n",
    "        return x"
   ]
  },
  {
   "cell_type": "code",
   "execution_count": 81,
   "id": "f5d3d681",
   "metadata": {},
   "outputs": [],
   "source": [
    "def update_network(array,R1,R2,C1,C2,x_max):\n",
    "    temp = np.zeros(len(array))\n",
    "    for i in range(len(array)) : \n",
    "        temp[i] = C1 * np.sum(array[max(0,i-R1):min(len(array),i+R1+1)])\n",
    "        +C2 * np.sum(array[max(0,i-R2):max(0,i-R1)])\n",
    "        +C2 * np.sum(array[min(len(array),i+R1+1):min(len(array),i+R2+1)])\n",
    "    array = [activation(x) for x in temp]\n",
    "    return array"
   ]
  },
  {
   "cell_type": "code",
   "execution_count": 82,
   "id": "6df6f1cd",
   "metadata": {},
   "outputs": [],
   "source": [
    "def mexican_hat(array,t_max) :\n",
    "    for i in range(t_max):\n",
    "        array = update_network(array,R1,R2,C1,C2,x_max)\n",
    "    return array\n",
    "    "
   ]
  },
  {
   "cell_type": "code",
   "execution_count": 84,
   "id": "9f4ba15e",
   "metadata": {},
   "outputs": [
    {
     "data": {
      "text/plain": [
       "[0.3, 0.78, 1.38, 1.56, 1.38, 0.78, 0.3]"
      ]
     },
     "execution_count": 84,
     "metadata": {},
     "output_type": "execute_result"
    }
   ],
   "source": [
    "R1=1\n",
    "R2=2\n",
    "C1=0.6\n",
    "C2=-0.4\n",
    "x_max=100\n",
    "X=np.array([0,0.5,0.8,1,0.8,0.5,0])\n",
    "mexican_hat(X,1)"
   ]
  },
  {
   "cell_type": "code",
   "execution_count": null,
   "id": "55623060",
   "metadata": {},
   "outputs": [],
   "source": []
  },
  {
   "cell_type": "code",
   "execution_count": null,
   "id": "36e17d33",
   "metadata": {},
   "outputs": [],
   "source": []
  }
 ],
 "metadata": {
  "kernelspec": {
   "display_name": "Python 3 (ipykernel)",
   "language": "python",
   "name": "python3"
  },
  "language_info": {
   "codemirror_mode": {
    "name": "ipython",
    "version": 3
   },
   "file_extension": ".py",
   "mimetype": "text/x-python",
   "name": "python",
   "nbconvert_exporter": "python",
   "pygments_lexer": "ipython3",
   "version": "3.9.12"
  }
 },
 "nbformat": 4,
 "nbformat_minor": 5
}
