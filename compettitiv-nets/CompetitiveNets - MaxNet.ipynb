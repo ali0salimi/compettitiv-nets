{
 "cells": [
  {
   "cell_type": "code",
   "execution_count": 18,
   "id": "b914cf8f",
   "metadata": {},
   "outputs": [],
   "source": [
    "import numpy as np"
   ]
  },
  {
   "cell_type": "code",
   "execution_count": 21,
   "id": "08165b21",
   "metadata": {},
   "outputs": [],
   "source": [
    "def MaxNet(arr,inhibitory_weight):\n",
    "    W = -inhibitory_weight * np.ones(shape=(len(arr),len(arr)))\n",
    "    np.fill_diagonal(W,1)\n",
    "    new_arr = np.dot(W,arr)\n",
    "    new_arr = np.where(new_arr<0,0,new_arr)\n",
    "    while(np.sum(new_arr>0)!=1):\n",
    "        new_arr = np.dot(W,new_arr)\n",
    "        new_arr = np.where(new_arr<0,0,new_arr)\n",
    "    return new_arr"
   ]
  },
  {
   "cell_type": "code",
   "execution_count": 22,
   "id": "7e085b7c",
   "metadata": {},
   "outputs": [
    {
     "data": {
      "text/plain": [
       "array([0.      , 0.      , 0.      , 0.420864])"
      ]
     },
     "execution_count": 22,
     "metadata": {},
     "output_type": "execute_result"
    }
   ],
   "source": [
    "arr = np.array([0.2,0.4,0.6,0.8])\n",
    "MaxNet(arr,0.2)"
   ]
  },
  {
   "cell_type": "code",
   "execution_count": null,
   "id": "0d6fecc0",
   "metadata": {},
   "outputs": [],
   "source": []
  }
 ],
 "metadata": {
  "kernelspec": {
   "display_name": "Python 3 (ipykernel)",
   "language": "python",
   "name": "python3"
  },
  "language_info": {
   "codemirror_mode": {
    "name": "ipython",
    "version": 3
   },
   "file_extension": ".py",
   "mimetype": "text/x-python",
   "name": "python",
   "nbconvert_exporter": "python",
   "pygments_lexer": "ipython3",
   "version": "3.9.12"
  }
 },
 "nbformat": 4,
 "nbformat_minor": 5
}
